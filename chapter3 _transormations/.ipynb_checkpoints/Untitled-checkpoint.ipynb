{
 "cells": [
  {
   "cell_type": "markdown",
   "id": "c6137c87",
   "metadata": {},
   "source": [
    "# Transforming Numerical Variables\n"
   ]
  },
  {
   "cell_type": "markdown",
   "id": "1908cb67",
   "metadata": {},
   "source": [
    "Transforming variables with the logarithm function"
   ]
  },
  {
   "cell_type": "code",
   "execution_count": 1,
   "id": "8075e884",
   "metadata": {},
   "outputs": [],
   "source": [
    "import numpy as np\n",
    "import pandas as pd\n",
    "import matplotlib.pyplot as plt\n",
    "import  scipy.stats as stats\n",
    "from sklearn.datasets import fetch_california_housing"
   ]
  },
  {
   "cell_type": "code",
   "execution_count": 2,
   "id": "1a439308",
   "metadata": {},
   "outputs": [],
   "source": [
    "X, y = fetch_california_housing(return_X_y=True, as_frame=True)\n",
    "\n",
    "X.hist(bins=30, figsize=(12, 12))\n",
    "\n",
    "plt.show()"
   ]
  },
  {
   "cell_type": "code",
   "execution_count": 3,
   "id": "2299886f",
   "metadata": {},
   "outputs": [],
   "source": [
    "def diagnostic_plots(df, variable):\n",
    "        plt.figure(figsize=(15,6))\n",
    "        plt.subplot(1, 2, 1)\n",
    "        df[variable].hist(bins=30)\n",
    "        plt.title(f\"Histogram of {variable}\")\n",
    "        plt.subplot(1, 2, 2)\n",
    "        stats.probplot(df[variable], dist=\"norm\", plot=plt)\n",
    "        plt.title(f\"Q-Q plot of {variable}\")\n",
    "        plt.show()\n",
    "        \n",
    "diagnostic_plots(X,\"MedInc\")"
   ]
  },
  {
   "cell_type": "code",
   "execution_count": 4,
   "id": "6d77f1f6",
   "metadata": {},
   "outputs": [],
   "source": [
    "# let’s make a copy of the original DataFrame using pandas copy()\n",
    "X_tf = X.copy()\n",
    "\n",
    "#make a list with the variables that we want to transform\n",
    "variables = [\"MedInc\", \"AveRooms\", \"AveBedrms\", \"Population\"]\n",
    "\n",
    "#logo transformayion\n",
    "X_tf[variables] = np.log(X[variables])\n",
    "\n",
    "#we saw that previous right skwed it will transform normal standevation\n",
    "diagnostic_plots(X_tf, \"MedInc\")\n",
    "\n",
    "X_tf"
   ]
  },
  {
   "cell_type": "code",
   "execution_count": 5,
   "id": "51e2ed39",
   "metadata": {},
   "outputs": [],
   "source": [
    "from sklearn.preprocessing import FunctionTransformer\n",
    "\n",
    "tranform = FunctionTransformer(np.log,inverse_func=np.exp)\n",
    "\n",
    "X_tf[variables] = tranform.transform(X[variables])\n",
    "\n"
   ]
  },
  {
   "cell_type": "code",
   "execution_count": 6,
   "id": "75c5ced1",
   "metadata": {},
   "outputs": [],
   "source": [
    "#this function reverse the data back to normal data \n",
    "X_tf[variables] = tranform.inverse_transform(X_tf[variables])\n"
   ]
  },
  {
   "cell_type": "code",
   "execution_count": 7,
   "id": "c12636e1",
   "metadata": {},
   "outputs": [],
   "source": [
    "#using feature_engine\n",
    "\n",
    "from feature_engine.transformation import LogTransformer\n",
    "\n",
    "\n",
    "lt = LogTransformer(variables=variables)\n",
    "lt.fit(X)\n",
    "\n",
    "X_tf = lt.transform(X)\n",
    "\n",
    "X_tf"
   ]
  },
  {
   "cell_type": "markdown",
   "id": "2b667be0",
   "metadata": {},
   "source": [
    "# Transforming variables with the reciprocal function"
   ]
  },
  {
   "cell_type": "code",
   "execution_count": 8,
   "id": "bd967581",
   "metadata": {},
   "outputs": [],
   "source": [
    "X, y = fetch_california_housing(return_X_y=True,as_frame=True)\n",
    "\n",
    "\n",
    "#plot \n",
    "diagnostic_plots(X, \"AveOccup\")"
   ]
  },
  {
   "cell_type": "code",
   "execution_count": 9,
   "id": "91e89114",
   "metadata": {},
   "outputs": [],
   "source": [
    "X_tf = X.copy()\n",
    "\n",
    "X_tf[\"AveOccup\"] = np.reciprocal(X_tf[\"AveOccup\"])\n",
    "\n",
    "\n",
    "#using the transformation with the diagnostic fucntion\n",
    "\n",
    "diagnostic_plots(X_tf, \"AveOccup\")"
   ]
  },
  {
   "cell_type": "code",
   "execution_count": 10,
   "id": "2b0e6af8",
   "metadata": {},
   "outputs": [],
   "source": [
    "#using sklearn\n",
    "from sklearn.preprocessing import FunctionTransformer\n",
    "\n",
    "transformer = FunctionTransformer(np.reciprocal)\n",
    "\n",
    "X_tf = X.copy()\n",
    "\n",
    "X_tf[\"AveOccup\"] = transformer.transform(X[\"AveOccup\"])\n"
   ]
  },
  {
   "cell_type": "code",
   "execution_count": 11,
   "id": "c988fa9c",
   "metadata": {
    "scrolled": true
   },
   "outputs": [],
   "source": [
    "from feature_engine.transformation import ReciprocalTransformer\n",
    "\n",
    "rt = ReciprocalTransformer(variables=\"AveOccup\")\n",
    "\n",
    "rt.fit(X)\n",
    "\n",
    "data = rt.transform(X)\n",
    "\n",
    "diagnostic_plots(data, \"AveOccup\")"
   ]
  },
  {
   "cell_type": "markdown",
   "id": "b3423ab7",
   "metadata": {},
   "source": [
    "# Using the square root to transform variables"
   ]
  },
  {
   "cell_type": "markdown",
   "id": "dd7dd883",
   "metadata": {},
   "source": [
    "#Anscombe transformation , Freeman-Tukey transformation, √x + √(x+1)"
   ]
  },
  {
   "cell_type": "markdown",
   "id": "0a73a4e6",
   "metadata": {},
   "source": [
    "The Poisson distribution is a probability distribution that indicates the number of times an event is likely to occur. In other words, it is a count distribution. It is right-skewed and its variance equals its mean. Examples of variables that could follow a Poisson distribution are the number of financial items of a customer, such as the number of current accounts or credit cards, the number of passengers in a vehicle, and the number of occupants in a household"
   ]
  },
  {
   "cell_type": "code",
   "execution_count": 12,
   "id": "669b36d6",
   "metadata": {},
   "outputs": [],
   "source": [
    "import numpy as np ;import pandas as pd\n",
    "\n",
    "import scipy.stats as stats\n",
    "\n",
    "df = pd.DataFrame()\n",
    "\n",
    "df[\"counts1\"] = stats.poisson.rvs(mu=3, size=10000)\n",
    "\n",
    "df[\"counts2\"] = stats.poisson.rvs(mu=2, size=10000)\n",
    "\n",
    "\n",
    "def diagnostic_plots(df, variable):\n",
    "    plt.figure(figsize=(15,6))\n",
    "    plt.subplot(1, 2, 1)\n",
    "    df[variable].value_counts().sort_index(). plot.bar()\n",
    "    plt.title(f\"Histogram of {variable}\")\n",
    "    plt.subplot(1, 2, 2)\n",
    "    stats.probplot(df[variable], dist=\"norm\", plot=plt)\n",
    "    plt.title(f\"Q-Q plot of {variable}\")\n",
    "    plt.show()\n",
    "    \n",
    "    \n",
    "diagnostic_plots(df, \"counts2\")"
   ]
  },
  {
   "cell_type": "code",
   "execution_count": 13,
   "id": "e7586173",
   "metadata": {},
   "outputs": [],
   "source": [
    "df_tf = df.copy()\n",
    "\n",
    "df_tf[[\"counts1\", \"counts2\"]] = np.sqrt(df[[\"counts1\",\"counts2\"]])\n",
    "\n",
    "\n",
    "df_tf[[\"counts1\", \"counts2\"]] = np.round(df_tf[[\"counts1\", \"counts2\"]], 2)\n",
    "\n",
    "\n",
    "diagnostic_plots(df_tf, \"counts1\")"
   ]
  },
  {
   "cell_type": "code",
   "execution_count": 14,
   "id": "4e2e4fb2",
   "metadata": {},
   "outputs": [],
   "source": [
    "from sklearn.preprocessing import FunctionTransformer\n",
    "\n",
    "transformer = FunctionTransformer(np.sqrt)\n",
    "\n",
    "df_tf = transformer.transform(df[[\"counts1\", \"counts2\"]])"
   ]
  },
  {
   "cell_type": "code",
   "execution_count": 15,
   "id": "9b1043ef",
   "metadata": {},
   "outputs": [],
   "source": [
    "from feature_engine.transformation import PowerTransformer\n",
    "\n",
    "root_t = PowerTransformer(exp=1/2)\n",
    "\n",
    "root_t.fit(df)\n",
    "\n",
    "df_tf = root_t.transform(df)\n",
    "\n"
   ]
  },
  {
   "cell_type": "code",
   "execution_count": 16,
   "id": "fad0194c",
   "metadata": {},
   "outputs": [],
   "source": [
    "\n",
    "# Assuming you have a dataset 'df' with variables 'x' and 'y'\n",
    "\n",
    "# Perform the Anscombe transformation\n",
    "df['x_anscombe'] = 2 * np.sqrt(df['counts1'] + 3/8)\n",
    "df['y_anscombe'] = 2 * np.sqrt(df['counts2'] + 3/8)\n",
    "\n",
    "# Check the transformed variables\n",
    "print(df[['x_anscombe', 'y_anscombe']])\n",
    "\n",
    "diagnostic_plots(df, \"y_anscombe\")"
   ]
  },
  {
   "cell_type": "markdown",
   "id": "ecda6177",
   "metadata": {},
   "source": [
    "#Using power transformations"
   ]
  },
  {
   "cell_type": "code",
   "execution_count": null,
   "id": "2752e816",
   "metadata": {},
   "outputs": [],
   "source": [
    "X_tf = X.copy()\n",
    "\n",
    "diagnostic_plots(X, \"Population\")"
   ]
  },
  {
   "cell_type": "code",
   "execution_count": null,
   "id": "e94f8447",
   "metadata": {},
   "outputs": [],
   "source": [
    "variables = [\"MedInc\", \"Population\"]\n",
    "\n",
    "X_tf[variables] = np.power(X[variables], 0.3)"
   ]
  }
 ],
 "metadata": {
  "kernelspec": {
   "display_name": "Python 3 (ipykernel)",
   "language": "python",
   "name": "python3"
  },
  "language_info": {
   "codemirror_mode": {
    "name": "ipython",
    "version": 3
   },
   "file_extension": ".py",
   "mimetype": "text/x-python",
   "name": "python",
   "nbconvert_exporter": "python",
   "pygments_lexer": "ipython3",
   "version": "3.9.2"
  }
 },
 "nbformat": 4,
 "nbformat_minor": 5
}
