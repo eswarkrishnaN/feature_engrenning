{
 "cells": [
  {
   "cell_type": "markdown",
   "id": "c7841f70",
   "metadata": {},
   "source": [
    "# Replacing missing values with an arbitrary number\n",
    "\n",
    "Arbitrary number imputation consists of replacing missing data with an arbitrary value. Commonly used values include 999, 9999, or -1 for positive distributions. This method is suitable for numerical variables. For categorical variables, the equivalent method is to replace missing data with an arbitrary string, as described in the Imputing categorical variables recipe"
   ]
  },
  {
   "cell_type": "code",
   "execution_count": 1,
   "id": "0ef4ee41",
   "metadata": {},
   "outputs": [],
   "source": [
    "import pandas as pd\n",
    "import numpy as np\n",
    "from sklearn.model_selection import train_test_split\n",
    "from sklearn.impute import SimpleImputer\n",
    "from feature_engine.imputation import ArbitraryNumberImputer\n",
    "\n",
    "\n",
    "data = pd.read_csv(\"we_need_to_clean.csv\")\n",
    "\n",
    "X_train,X_test,Y_train,Y_test = train_test_split(data.drop(\"target\",axis=1),data[\"target\"],test_size=(0.3),random_state=10)\n",
    "\n",
    "fill = X_train[['A2','A3', 'A8', 'A11']].max()\n",
    "\n",
    "print(fill)\n",
    "X_train[[\"A2\", \"A3\", \"A8\", \"A11\"]] = X_train[[\"A2\", \"A3\", \"A8\", \"A11\"]].fillna(99)\n",
    "\n",
    "X_test[[\"A2\", \"A3\", \"A8\", \"A11\"]] = X_test[[\"A2\", \"A3\", \"A8\", \"A11\"]].fillna(99)"
   ]
  },
  {
   "cell_type": "code",
   "execution_count": 2,
   "id": "5cc608ee",
   "metadata": {},
   "outputs": [],
   "source": [
    "#using sklearn\n",
    "\n",
    "imputer = SimpleImputer(strategy=\"constant\",fill_value=99)\n",
    "\n",
    "imputer.fit(X_train[[\"A2\", \"A3\", \"A8\", \"A11\"]])"
   ]
  },
  {
   "cell_type": "code",
   "execution_count": 3,
   "id": "909a1039",
   "metadata": {},
   "outputs": [],
   "source": [
    "X_train[[\"A2\", \"A3\", \"A8\", \"A11\"]] = imputer.transform(X_train[[\"A2\", \"A3\", \"A8\", \"A11\"]])\n",
    "\n",
    "X_test[[\"A2\", \"A3\", \"A8\", \"A11\"]] = imputer.transform(X_test[[\"A2\", \"A3\", \"A8\", \"A11\"]])"
   ]
  },
  {
   "cell_type": "code",
   "execution_count": 4,
   "id": "26b4b28a",
   "metadata": {},
   "outputs": [],
   "source": [
    "#using feature_engine\n",
    "\n",
    "imputer = ArbitraryNumberImputer(arbitrary_number=99 ,variables=[\"A2\", \"A3\", \"A8\", \"A11\"])\n",
    "\n",
    "X_train = imputer.fit_transform(X_train)\n",
    "X_test = imputer.fit_transform(X_test)\n",
    "\n"
   ]
  },
  {
   "cell_type": "markdown",
   "id": "85afe19f",
   "metadata": {},
   "source": [
    "# Finding extreme values for imputation\n"
   ]
  },
  {
   "cell_type": "code",
   "execution_count": 5,
   "id": "cb0b48eb",
   "metadata": {},
   "outputs": [],
   "source": [
    "from feature_engine.imputation import EndTailImputer\n",
    "\n",
    "numeric_vars = [var for var in data.select_dtypes(exclude=\"O\").columns.to_list() if var !=\"target\"]\n",
    "\n",
    "numeric_vars"
   ]
  },
  {
   "cell_type": "code",
   "execution_count": 6,
   "id": "f1b7733a",
   "metadata": {},
   "outputs": [],
   "source": [
    "#spliting the data using train test split\n",
    "X_train, X_test, y_train, y_test = train_test_split(data[numeric_vars],data[\"target\"],test_size=0.3,random_state=0)\n",
    "\n",
    "X_train.head()"
   ]
  },
  {
   "cell_type": "code",
   "execution_count": 7,
   "id": "109f3a69",
   "metadata": {},
   "outputs": [],
   "source": [
    "#we use the interqutail range \n",
    "\n",
    "IQR = X_train.quantile(0.75) - X_train.quantile(0.25)\n",
    "\n",
    "IQR"
   ]
  },
  {
   "cell_type": "code",
   "execution_count": 8,
   "id": "8d33b6e2",
   "metadata": {},
   "outputs": [],
   "source": [
    "imputation_dict = (X_train.quantile(0.75) + 1.5 * IQR).to_dict()\n",
    "\n",
    "\n",
    "X_train = X_train.fillna(value=imputation_dict)\n",
    "X_test = X_test.fillna(value=imputation_dict)\n",
    "\n"
   ]
  },
  {
   "cell_type": "code",
   "execution_count": 9,
   "id": "99b93aac",
   "metadata": {},
   "outputs": [],
   "source": [
    "#using feature engine \n",
    "imputer = EndTailImputer(imputation_method=\"iqr\",tail=\"right\",fold=3,variables=None)\n",
    "\n",
    "#we can set also tail right  ,left \n",
    "\"\"\"imputation_method=\"Gaussian\". We can use 'left' or 'right' in the tail argument to specify the side of the distribution\"\"\"\n",
    "\n",
    "imputer.fit(X_train)\n",
    "\n",
    "imputer.imputer_dict_\n",
    "\n",
    "X_train = imputer.transform(X_train)\n",
    "X_test = imputer.transform(X_test)\n",
    "\n"
   ]
  },
  {
   "cell_type": "markdown",
   "id": "3a5a6419",
   "metadata": {},
   "source": [
    "# setting up the pipe line"
   ]
  },
  {
   "cell_type": "code",
   "execution_count": 10,
   "id": "8aa4eaf5",
   "metadata": {},
   "outputs": [],
   "source": [
    "import pandas as pd\n",
    "import numpy as np\n",
    "from sklearn.model_selection import train_test_split\n",
    "from sklearn.impute import SimpleImputer\n",
    "from sklearn.compose import ColumnTransformer\n",
    "from sklearn.pipeline import Pipeline\n",
    "from feature_engine.imputation import(AddMissingIndicator, CategoricalImputer,MeanMedianImputer)"
   ]
  },
  {
   "cell_type": "code",
   "execution_count": 11,
   "id": "24512f28",
   "metadata": {},
   "outputs": [],
   "source": [
    "X_train, X_test, y_train, y_test = train_test_split(data.drop(\"target\", axis=1),data[\"target\"],test_size=0.3,random_state=24)\n",
    "\n",
    "\n",
    "#we can set the variables name in a list\n",
    "varnames =[\"A1\", \"A3\", \"A4\", \"A5\", \"A6\", \"A7\", \"A8\"]\n",
    "\n",
    "indicates = [f\"{var}_na\" for var in varnames]\n",
    "\n",
    "#it will add ones are zeros one is null values and zero null values\n",
    "X_train[indicates] = X_train[varnames].isna().astype(int)\n",
    "\n",
    "X_test[indicates] = X_test[varnames].isna().astype(int)\n",
    "\n"
   ]
  },
  {
   "cell_type": "code",
   "execution_count": 12,
   "id": "0ebff179",
   "metadata": {},
   "outputs": [],
   "source": [
    "imputer  = AddMissingIndicator(variables=None, missing_only=True)\n",
    "\n",
    "imputer.fit(X_train)\n",
    "\n",
    "imputer.variables_\n"
   ]
  },
  {
   "cell_type": "code",
   "execution_count": 13,
   "id": "f3b6ef4c",
   "metadata": {},
   "outputs": [],
   "source": [
    "X_train = imputer.transform(X_train)\n",
    "\n",
    "X_test = imputer.transform(X_test)"
   ]
  },
  {
   "cell_type": "code",
   "execution_count": 16,
   "id": "241e5164",
   "metadata": {},
   "outputs": [],
   "source": [
    "pipe = Pipeline(\n",
    "\n",
    "    [\n",
    "\n",
    "        (\"ind\",\n",
    "\n",
    "        AddMissingIndicator(missing_only=True)\n",
    "\n",
    "        ),\n",
    "\n",
    "        (\"cat\",\n",
    "\n",
    "        CategoricalImputer(\n",
    "\n",
    "            imputation_method=\"frequent\")\n",
    "\n",
    "        ),\n",
    "\n",
    "        (\"num\", MeanMedianImputer()),\n",
    "\n",
    "    ]\n",
    "\n",
    ")"
   ]
  },
  {
   "cell_type": "code",
   "execution_count": 17,
   "id": "43fbb930",
   "metadata": {},
   "outputs": [],
   "source": [
    "X_train = pipe.fit_transform(X_train)\n",
    "\n",
    "X_test = pipe.transform(X_test)"
   ]
  }
 ],
 "metadata": {
  "kernelspec": {
   "display_name": "Python 3 (ipykernel)",
   "language": "python",
   "name": "python3"
  },
  "language_info": {
   "codemirror_mode": {
    "name": "ipython",
    "version": 3
   },
   "file_extension": ".py",
   "mimetype": "text/x-python",
   "name": "python",
   "nbconvert_exporter": "python",
   "pygments_lexer": "ipython3",
   "version": "3.9.2"
  }
 },
 "nbformat": 4,
 "nbformat_minor": 5
}
