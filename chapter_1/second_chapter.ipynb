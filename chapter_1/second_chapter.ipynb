{
 "cells": [
  {
   "cell_type": "markdown",
   "id": "c7841f70",
   "metadata": {},
   "source": [
    "# Replacing missing values with an arbitrary number\n",
    "\n",
    "Arbitrary number imputation consists of replacing missing data with an arbitrary value. Commonly used values include 999, 9999, or -1 for positive distributions. This method is suitable for numerical variables. For categorical variables, the equivalent method is to replace missing data with an arbitrary string, as described in the Imputing categorical variables recipe"
   ]
  },
  {
   "cell_type": "code",
   "execution_count": 1,
   "id": "0ef4ee41",
   "metadata": {},
   "outputs": [
    {
     "name": "stdout",
     "output_type": "stream",
     "text": [
      "A2     80.25\n",
      "A3     25.00\n",
      "A8     20.00\n",
      "A11    67.00\n",
      "dtype: float64\n"
     ]
    }
   ],
   "source": [
    "import pandas as pd\n",
    "import numpy as np\n",
    "from sklearn.model_selection import train_test_split\n",
    "from sklearn.impute import SimpleImputer\n",
    "from feature_engine.imputation import ArbitraryNumberImputer\n",
    "\n",
    "\n",
    "data = pd.read_csv(\"we_need_to_clean.csv\")\n",
    "\n",
    "X_train,X_test,Y_train,Y_test = train_test_split(data.drop(\"target\",axis=1),data[\"target\"],test_size=(0.3),random_state=10)\n",
    "\n",
    "fill = X_train[['A2','A3', 'A8', 'A11']].max()\n",
    "\n",
    "print(fill)\n",
    "X_train[[\"A2\", \"A3\", \"A8\", \"A11\"]] = X_train[[\"A2\", \"A3\", \"A8\", \"A11\"]].fillna(99)\n",
    "\n",
    "X_test[[\"A2\", \"A3\", \"A8\", \"A11\"]] = X_test[[\"A2\", \"A3\", \"A8\", \"A11\"]].fillna(99)"
   ]
  },
  {
   "cell_type": "code",
   "execution_count": 2,
   "id": "5cc608ee",
   "metadata": {},
   "outputs": [
    {
     "data": {
      "text/html": [
       "<style>#sk-container-id-1 {color: black;background-color: white;}#sk-container-id-1 pre{padding: 0;}#sk-container-id-1 div.sk-toggleable {background-color: white;}#sk-container-id-1 label.sk-toggleable__label {cursor: pointer;display: block;width: 100%;margin-bottom: 0;padding: 0.3em;box-sizing: border-box;text-align: center;}#sk-container-id-1 label.sk-toggleable__label-arrow:before {content: \"▸\";float: left;margin-right: 0.25em;color: #696969;}#sk-container-id-1 label.sk-toggleable__label-arrow:hover:before {color: black;}#sk-container-id-1 div.sk-estimator:hover label.sk-toggleable__label-arrow:before {color: black;}#sk-container-id-1 div.sk-toggleable__content {max-height: 0;max-width: 0;overflow: hidden;text-align: left;background-color: #f0f8ff;}#sk-container-id-1 div.sk-toggleable__content pre {margin: 0.2em;color: black;border-radius: 0.25em;background-color: #f0f8ff;}#sk-container-id-1 input.sk-toggleable__control:checked~div.sk-toggleable__content {max-height: 200px;max-width: 100%;overflow: auto;}#sk-container-id-1 input.sk-toggleable__control:checked~label.sk-toggleable__label-arrow:before {content: \"▾\";}#sk-container-id-1 div.sk-estimator input.sk-toggleable__control:checked~label.sk-toggleable__label {background-color: #d4ebff;}#sk-container-id-1 div.sk-label input.sk-toggleable__control:checked~label.sk-toggleable__label {background-color: #d4ebff;}#sk-container-id-1 input.sk-hidden--visually {border: 0;clip: rect(1px 1px 1px 1px);clip: rect(1px, 1px, 1px, 1px);height: 1px;margin: -1px;overflow: hidden;padding: 0;position: absolute;width: 1px;}#sk-container-id-1 div.sk-estimator {font-family: monospace;background-color: #f0f8ff;border: 1px dotted black;border-radius: 0.25em;box-sizing: border-box;margin-bottom: 0.5em;}#sk-container-id-1 div.sk-estimator:hover {background-color: #d4ebff;}#sk-container-id-1 div.sk-parallel-item::after {content: \"\";width: 100%;border-bottom: 1px solid gray;flex-grow: 1;}#sk-container-id-1 div.sk-label:hover label.sk-toggleable__label {background-color: #d4ebff;}#sk-container-id-1 div.sk-serial::before {content: \"\";position: absolute;border-left: 1px solid gray;box-sizing: border-box;top: 0;bottom: 0;left: 50%;z-index: 0;}#sk-container-id-1 div.sk-serial {display: flex;flex-direction: column;align-items: center;background-color: white;padding-right: 0.2em;padding-left: 0.2em;position: relative;}#sk-container-id-1 div.sk-item {position: relative;z-index: 1;}#sk-container-id-1 div.sk-parallel {display: flex;align-items: stretch;justify-content: center;background-color: white;position: relative;}#sk-container-id-1 div.sk-item::before, #sk-container-id-1 div.sk-parallel-item::before {content: \"\";position: absolute;border-left: 1px solid gray;box-sizing: border-box;top: 0;bottom: 0;left: 50%;z-index: -1;}#sk-container-id-1 div.sk-parallel-item {display: flex;flex-direction: column;z-index: 1;position: relative;background-color: white;}#sk-container-id-1 div.sk-parallel-item:first-child::after {align-self: flex-end;width: 50%;}#sk-container-id-1 div.sk-parallel-item:last-child::after {align-self: flex-start;width: 50%;}#sk-container-id-1 div.sk-parallel-item:only-child::after {width: 0;}#sk-container-id-1 div.sk-dashed-wrapped {border: 1px dashed gray;margin: 0 0.4em 0.5em 0.4em;box-sizing: border-box;padding-bottom: 0.4em;background-color: white;}#sk-container-id-1 div.sk-label label {font-family: monospace;font-weight: bold;display: inline-block;line-height: 1.2em;}#sk-container-id-1 div.sk-label-container {text-align: center;}#sk-container-id-1 div.sk-container {/* jupyter's `normalize.less` sets `[hidden] { display: none; }` but bootstrap.min.css set `[hidden] { display: none !important; }` so we also need the `!important` here to be able to override the default hidden behavior on the sphinx rendered scikit-learn.org. See: https://github.com/scikit-learn/scikit-learn/issues/21755 */display: inline-block !important;position: relative;}#sk-container-id-1 div.sk-text-repr-fallback {display: none;}</style><div id=\"sk-container-id-1\" class=\"sk-top-container\"><div class=\"sk-text-repr-fallback\"><pre>SimpleImputer(fill_value=99, strategy=&#x27;constant&#x27;)</pre><b>In a Jupyter environment, please rerun this cell to show the HTML representation or trust the notebook. <br />On GitHub, the HTML representation is unable to render, please try loading this page with nbviewer.org.</b></div><div class=\"sk-container\" hidden><div class=\"sk-item\"><div class=\"sk-estimator sk-toggleable\"><input class=\"sk-toggleable__control sk-hidden--visually\" id=\"sk-estimator-id-1\" type=\"checkbox\" checked><label for=\"sk-estimator-id-1\" class=\"sk-toggleable__label sk-toggleable__label-arrow\">SimpleImputer</label><div class=\"sk-toggleable__content\"><pre>SimpleImputer(fill_value=99, strategy=&#x27;constant&#x27;)</pre></div></div></div></div></div>"
      ],
      "text/plain": [
       "SimpleImputer(fill_value=99, strategy='constant')"
      ]
     },
     "execution_count": 2,
     "metadata": {},
     "output_type": "execute_result"
    }
   ],
   "source": [
    "#using sklearn\n",
    "\n",
    "imputer = SimpleImputer(strategy=\"constant\",fill_value=99)\n",
    "\n",
    "imputer.fit(X_train[[\"A2\", \"A3\", \"A8\", \"A11\"]])"
   ]
  },
  {
   "cell_type": "code",
   "execution_count": 3,
   "id": "909a1039",
   "metadata": {},
   "outputs": [],
   "source": [
    "X_train[[\"A2\", \"A3\", \"A8\", \"A11\"]] = imputer.transform(X_train[[\"A2\", \"A3\", \"A8\", \"A11\"]])\n",
    "\n",
    "X_test[[\"A2\", \"A3\", \"A8\", \"A11\"]] = imputer.transform(X_test[[\"A2\", \"A3\", \"A8\", \"A11\"]])"
   ]
  },
  {
   "cell_type": "code",
   "execution_count": 4,
   "id": "26b4b28a",
   "metadata": {},
   "outputs": [],
   "source": [
    "#using feature_engine\n",
    "\n",
    "imputer = ArbitraryNumberImputer(arbitrary_number=99 ,variables=[\"A2\", \"A3\", \"A8\", \"A11\"])\n",
    "\n",
    "X_train = imputer.fit_transform(X_train)\n",
    "X_test = imputer.fit_transform(X_test)\n",
    "\n"
   ]
  },
  {
   "cell_type": "markdown",
   "id": "85afe19f",
   "metadata": {},
   "source": [
    "# Finding extreme values for imputation\n"
   ]
  },
  {
   "cell_type": "code",
   "execution_count": 5,
   "id": "cb0b48eb",
   "metadata": {},
   "outputs": [
    {
     "data": {
      "text/plain": [
       "['A2', 'A3', 'A8', 'A11', 'A15', 'A16']"
      ]
     },
     "execution_count": 5,
     "metadata": {},
     "output_type": "execute_result"
    }
   ],
   "source": [
    "from feature_engine.imputation import EndTailImputer\n",
    "\n",
    "numeric_vars = [var for var in data.select_dtypes(exclude=\"O\").columns.to_list() if var !=\"target\"]\n",
    "\n",
    "numeric_vars"
   ]
  },
  {
   "cell_type": "code",
   "execution_count": 6,
   "id": "f1b7733a",
   "metadata": {},
   "outputs": [
    {
     "data": {
      "text/html": [
       "<div>\n",
       "<style scoped>\n",
       "    .dataframe tbody tr th:only-of-type {\n",
       "        vertical-align: middle;\n",
       "    }\n",
       "\n",
       "    .dataframe tbody tr th {\n",
       "        vertical-align: top;\n",
       "    }\n",
       "\n",
       "    .dataframe thead th {\n",
       "        text-align: right;\n",
       "    }\n",
       "</style>\n",
       "<table border=\"1\" class=\"dataframe\">\n",
       "  <thead>\n",
       "    <tr style=\"text-align: right;\">\n",
       "      <th></th>\n",
       "      <th>A2</th>\n",
       "      <th>A3</th>\n",
       "      <th>A8</th>\n",
       "      <th>A11</th>\n",
       "      <th>A15</th>\n",
       "      <th>A16</th>\n",
       "    </tr>\n",
       "  </thead>\n",
       "  <tbody>\n",
       "    <tr>\n",
       "      <th>596</th>\n",
       "      <td>46.08</td>\n",
       "      <td>3.0</td>\n",
       "      <td>2.0</td>\n",
       "      <td>8</td>\n",
       "      <td>4159</td>\n",
       "      <td>1</td>\n",
       "    </tr>\n",
       "    <tr>\n",
       "      <th>303</th>\n",
       "      <td>15.92</td>\n",
       "      <td>2.0</td>\n",
       "      <td>0.0</td>\n",
       "      <td>0</td>\n",
       "      <td>0</td>\n",
       "      <td>0</td>\n",
       "    </tr>\n",
       "    <tr>\n",
       "      <th>204</th>\n",
       "      <td>36.33</td>\n",
       "      <td>2.0</td>\n",
       "      <td>0.0</td>\n",
       "      <td>1</td>\n",
       "      <td>1187</td>\n",
       "      <td>1</td>\n",
       "    </tr>\n",
       "    <tr>\n",
       "      <th>351</th>\n",
       "      <td>22.17</td>\n",
       "      <td>0.0</td>\n",
       "      <td>0.0</td>\n",
       "      <td>0</td>\n",
       "      <td>0</td>\n",
       "      <td>0</td>\n",
       "    </tr>\n",
       "    <tr>\n",
       "      <th>118</th>\n",
       "      <td>57.83</td>\n",
       "      <td>7.0</td>\n",
       "      <td>14.0</td>\n",
       "      <td>6</td>\n",
       "      <td>1332</td>\n",
       "      <td>1</td>\n",
       "    </tr>\n",
       "  </tbody>\n",
       "</table>\n",
       "</div>"
      ],
      "text/plain": [
       "        A2   A3    A8  A11   A15  A16\n",
       "596  46.08  3.0   2.0    8  4159    1\n",
       "303  15.92  2.0   0.0    0     0    0\n",
       "204  36.33  2.0   0.0    1  1187    1\n",
       "351  22.17  0.0   0.0    0     0    0\n",
       "118  57.83  7.0  14.0    6  1332    1"
      ]
     },
     "execution_count": 6,
     "metadata": {},
     "output_type": "execute_result"
    }
   ],
   "source": [
    "#spliting the data using train test split\n",
    "X_train, X_test, y_train, y_test = train_test_split(data[numeric_vars],data[\"target\"],test_size=0.3,random_state=0)\n",
    "\n",
    "X_train.head()"
   ]
  },
  {
   "cell_type": "code",
   "execution_count": 7,
   "id": "109f3a69",
   "metadata": {},
   "outputs": [
    {
     "data": {
      "text/plain": [
       "A2      16.42\n",
       "A3       6.50\n",
       "A8       3.00\n",
       "A11      3.00\n",
       "A15    450.00\n",
       "A16      1.00\n",
       "dtype: float64"
      ]
     },
     "execution_count": 7,
     "metadata": {},
     "output_type": "execute_result"
    }
   ],
   "source": [
    "#we use the interqutail range \n",
    "\n",
    "IQR = X_train.quantile(0.75) - X_train.quantile(0.25)\n",
    "\n",
    "IQR"
   ]
  },
  {
   "cell_type": "code",
   "execution_count": 8,
   "id": "8d33b6e2",
   "metadata": {},
   "outputs": [],
   "source": [
    "imputation_dict = (X_train.quantile(0.75) + 1.5 * IQR).to_dict()\n",
    "\n",
    "\n",
    "X_train = X_train.fillna(value=imputation_dict)\n",
    "X_test = X_test.fillna(value=imputation_dict)\n",
    "\n"
   ]
  },
  {
   "cell_type": "code",
   "execution_count": 9,
   "id": "99b93aac",
   "metadata": {},
   "outputs": [],
   "source": [
    "#using feature engine \n",
    "imputer = EndTailImputer(imputation_method=\"iqr\",tail=\"right\",fold=3,variables=None)\n",
    "\n",
    "#we can set also tail right  ,left \n",
    "\"\"\"imputation_method=\"Gaussian\". We can use 'left' or 'right' in the tail argument to specify the side of the distribution\"\"\"\n",
    "\n",
    "imputer.fit(X_train)\n",
    "\n",
    "imputer.imputer_dict_\n",
    "\n",
    "X_train = imputer.transform(X_train)\n",
    "X_test = imputer.transform(X_test)\n",
    "\n"
   ]
  },
  {
   "cell_type": "markdown",
   "id": "3a5a6419",
   "metadata": {},
   "source": [
    "# setting up the pipe line"
   ]
  },
  {
   "cell_type": "code",
   "execution_count": 10,
   "id": "8aa4eaf5",
   "metadata": {},
   "outputs": [],
   "source": [
    "import pandas as pd\n",
    "import numpy as np\n",
    "from sklearn.model_selection import train_test_split\n",
    "from sklearn.impute import SimpleImputer\n",
    "from sklearn.compose import ColumnTransformer\n",
    "from sklearn.pipeline import Pipeline\n",
    "from feature_engine.imputation import(AddMissingIndicator, CategoricalImputer,MeanMedianImputer)"
   ]
  },
  {
   "cell_type": "code",
   "execution_count": 11,
   "id": "24512f28",
   "metadata": {},
   "outputs": [],
   "source": [
    "X_train, X_test, y_train, y_test = train_test_split(data.drop(\"target\", axis=1),data[\"target\"],test_size=0.3,random_state=24)\n",
    "\n",
    "\n",
    "# #we can set the variables name in a list\n",
    "# varnames =[\"A1\", \"A3\", \"A4\", \"A5\", \"A6\", \"A7\", \"A8\"]\n",
    "\n",
    "# indicates = [f\"{var}_na\" for var in varnames]\n",
    "\n",
    "# #it will add ones are zeros one is null values and zero null values\n",
    "# X_train[indicates] = X_train[varnames].isna().astype(int)\n",
    "\n",
    "# X_test[indicates] = X_test[varnames].isna().astype(int)\n",
    "\n"
   ]
  },
  {
   "cell_type": "code",
   "execution_count": 12,
   "id": "0ebff179",
   "metadata": {},
   "outputs": [],
   "source": [
    "# imputer  = AddMissingIndicator(variables=None, missing_only=True)\n",
    "\n",
    "# imputer.fit(X_train)\n",
    "\n",
    "# imputer.variables_\n"
   ]
  },
  {
   "cell_type": "code",
   "execution_count": 13,
   "id": "f3b6ef4c",
   "metadata": {},
   "outputs": [],
   "source": [
    "# X_train = imputer.transform(X_train)\n",
    "\n",
    "# X_test = imputer.transform(X_test)"
   ]
  },
  {
   "cell_type": "code",
   "execution_count": 14,
   "id": "241e5164",
   "metadata": {},
   "outputs": [],
   "source": [
    "pipe = Pipeline([\n",
    "    #(\"ind\", AddMissingIndicator(missing_only=True)),\n",
    "    (\"cat\", CategoricalImputer(imputation_method=\"frequent\")),\n",
    "    (\"num\", MeanMedianImputer())\n",
    "])\n"
   ]
  },
  {
   "cell_type": "code",
   "execution_count": 15,
   "id": "43fbb930",
   "metadata": {},
   "outputs": [
    {
     "data": {
      "text/plain": [
       "A1     0\n",
       "A2     0\n",
       "A3     0\n",
       "A4     0\n",
       "A5     0\n",
       "A6     0\n",
       "A7     0\n",
       "A8     0\n",
       "A9     0\n",
       "A10    0\n",
       "A11    0\n",
       "A12    0\n",
       "A13    0\n",
       "A15    0\n",
       "A16    0\n",
       "dtype: int64"
      ]
     },
     "execution_count": 15,
     "metadata": {},
     "output_type": "execute_result"
    }
   ],
   "source": [
    "X_train = pipe.fit_transform(X_train)\n",
    "\n",
    "X_test = pipe.transform(X_test)\n",
    "\n",
    "X_train.isnull().sum()"
   ]
  },
  {
   "cell_type": "markdown",
   "id": "2f5a7542",
   "metadata": {},
   "source": [
    "# Performing multivariate imputation by chained equations\n",
    "\n",
    "Multivariate imputation methods, as opposed to univariate imputation, use multiple variables to estimate the missing values. In other words, the missing values of a variable are modeled based on the other variables in the dataset. Multivariate Imputation by Chained Equations (MICE) models each variable with missing values as a function of the remaining variables and uses that estimate for imputation"
   ]
  },
  {
   "cell_type": "code",
   "execution_count": 16,
   "id": "4a40bbf2",
   "metadata": {},
   "outputs": [],
   "source": [
    "from sklearn.linear_model import BayesianRidge\n",
    "from sklearn.experimental import enable_iterative_imputer\n",
    "from sklearn.impute import IterativeImputer"
   ]
  },
  {
   "cell_type": "code",
   "execution_count": 17,
   "id": "08964d34",
   "metadata": {},
   "outputs": [
    {
     "data": {
      "text/html": [
       "<div>\n",
       "<style scoped>\n",
       "    .dataframe tbody tr th:only-of-type {\n",
       "        vertical-align: middle;\n",
       "    }\n",
       "\n",
       "    .dataframe tbody tr th {\n",
       "        vertical-align: top;\n",
       "    }\n",
       "\n",
       "    .dataframe thead th {\n",
       "        text-align: right;\n",
       "    }\n",
       "</style>\n",
       "<table border=\"1\" class=\"dataframe\">\n",
       "  <thead>\n",
       "    <tr style=\"text-align: right;\">\n",
       "      <th></th>\n",
       "      <th>A2</th>\n",
       "      <th>A3</th>\n",
       "      <th>A8</th>\n",
       "      <th>A11</th>\n",
       "      <th>target</th>\n",
       "      <th>A15</th>\n",
       "    </tr>\n",
       "  </thead>\n",
       "  <tbody>\n",
       "    <tr>\n",
       "      <th>0</th>\n",
       "      <td>30.83</td>\n",
       "      <td>0.0</td>\n",
       "      <td>1.0</td>\n",
       "      <td>1</td>\n",
       "      <td>202.0</td>\n",
       "      <td>0</td>\n",
       "    </tr>\n",
       "    <tr>\n",
       "      <th>1</th>\n",
       "      <td>58.67</td>\n",
       "      <td>4.0</td>\n",
       "      <td>3.0</td>\n",
       "      <td>6</td>\n",
       "      <td>43.0</td>\n",
       "      <td>560</td>\n",
       "    </tr>\n",
       "    <tr>\n",
       "      <th>2</th>\n",
       "      <td>24.50</td>\n",
       "      <td>NaN</td>\n",
       "      <td>NaN</td>\n",
       "      <td>0</td>\n",
       "      <td>280.0</td>\n",
       "      <td>824</td>\n",
       "    </tr>\n",
       "    <tr>\n",
       "      <th>3</th>\n",
       "      <td>27.83</td>\n",
       "      <td>1.0</td>\n",
       "      <td>3.0</td>\n",
       "      <td>5</td>\n",
       "      <td>100.0</td>\n",
       "      <td>3</td>\n",
       "    </tr>\n",
       "    <tr>\n",
       "      <th>4</th>\n",
       "      <td>20.17</td>\n",
       "      <td>5.0</td>\n",
       "      <td>1.0</td>\n",
       "      <td>0</td>\n",
       "      <td>120.0</td>\n",
       "      <td>0</td>\n",
       "    </tr>\n",
       "  </tbody>\n",
       "</table>\n",
       "</div>"
      ],
      "text/plain": [
       "      A2   A3   A8  A11  target  A15\n",
       "0  30.83  0.0  1.0    1   202.0    0\n",
       "1  58.67  4.0  3.0    6    43.0  560\n",
       "2  24.50  NaN  NaN    0   280.0  824\n",
       "3  27.83  1.0  3.0    5   100.0    3\n",
       "4  20.17  5.0  1.0    0   120.0    0"
      ]
     },
     "execution_count": 17,
     "metadata": {},
     "output_type": "execute_result"
    }
   ],
   "source": [
    "variables = [\"A2\", \"A3\", \"A8\", \"A11\",  \"A15\", \"target\"]\n",
    "data = pd.read_csv(\"we_need_to_clean.csv\",usecols=variables)\n",
    "data.head()"
   ]
  },
  {
   "cell_type": "code",
   "execution_count": 18,
   "id": "fec2b23d",
   "metadata": {},
   "outputs": [],
   "source": [
    "X_train, X_test, y_train, y_test = train_test_split(data.drop(\"target\", axis=1),data[\"target\"],test_size=0.3,random_state=0)"
   ]
  },
  {
   "cell_type": "code",
   "execution_count": 29,
   "id": "3afd083b",
   "metadata": {},
   "outputs": [
    {
     "data": {
      "text/plain": [
       "0    0\n",
       "1    0\n",
       "2    0\n",
       "3    0\n",
       "4    0\n",
       "dtype: int64"
      ]
     },
     "execution_count": 29,
     "metadata": {},
     "output_type": "execute_result"
    }
   ],
   "source": [
    "\n",
    "imputer = IterativeImputer(estimator= BayesianRidge(),max_iter=10,random_state=0,)\n",
    "\n",
    "imputer.fit(X_train)\n",
    "\n",
    "X_train = imputer.transform(X_train)\n",
    "\n",
    "X_test = imputer.transform(X_test)\n",
    "\n",
    "\n",
    "pd.DataFrame(X_train).isnull().sum()"
   ]
  },
  {
   "cell_type": "markdown",
   "id": "93b49abd",
   "metadata": {},
   "source": [
    "# Estimating missing data with nearest neighbors"
   ]
  },
  {
   "cell_type": "code",
   "execution_count": 30,
   "id": "d8e0a897",
   "metadata": {},
   "outputs": [],
   "source": [
    "from sklearn.impute import KNNImputer\n",
    "\n",
    "\n",
    "imputer = KNNImputer(n_neighbors=5,weights=\"distance\")"
   ]
  },
  {
   "cell_type": "markdown",
   "id": "e48ca9ad",
   "metadata": {},
   "source": [
    "Set up the imputer to find the closest 5 neighbors, utilizing Euclidean distance and weighting the neighbors so that the furthest neighbors have a smaller influence over the value of the replacement"
   ]
  },
  {
   "cell_type": "code",
   "execution_count": 33,
   "id": "f46931c1",
   "metadata": {},
   "outputs": [
    {
     "data": {
      "text/plain": [
       "0    0\n",
       "1    0\n",
       "2    0\n",
       "3    0\n",
       "4    0\n",
       "dtype: int64"
      ]
     },
     "execution_count": 33,
     "metadata": {},
     "output_type": "execute_result"
    }
   ],
   "source": [
    "imputer.fit(X_train)\n",
    "\n",
    "X_train = imputer.transform(X_train)\n",
    "\n",
    "X_test = imputer.transform(X_test)\n",
    "\n",
    "pd.DataFrame(X_train).isnull().sum()"
   ]
  },
  {
   "cell_type": "code",
   "execution_count": null,
   "id": "84c9af27",
   "metadata": {},
   "outputs": [],
   "source": []
  }
 ],
 "metadata": {
  "kernelspec": {
   "display_name": "Python 3 (ipykernel)",
   "language": "python",
   "name": "python3"
  },
  "language_info": {
   "codemirror_mode": {
    "name": "ipython",
    "version": 3
   },
   "file_extension": ".py",
   "mimetype": "text/x-python",
   "name": "python",
   "nbconvert_exporter": "python",
   "pygments_lexer": "ipython3",
   "version": "3.9.2"
  }
 },
 "nbformat": 4,
 "nbformat_minor": 5
}
