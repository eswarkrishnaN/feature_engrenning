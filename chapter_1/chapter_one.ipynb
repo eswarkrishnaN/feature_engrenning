{
 "cells": [
  {
   "cell_type": "code",
   "execution_count": 1,
   "id": "d8814221",
   "metadata": {},
   "outputs": [],
   "source": [
    "import pandas as pd\n",
    "import random\n",
    "import numpy as np\n",
    "import matplotlib.pyplot as plt\n",
    "import seaborn \n"
   ]
  },
  {
   "cell_type": "code",
   "execution_count": 2,
   "id": "172ea382",
   "metadata": {},
   "outputs": [
    {
     "name": "stdout",
     "output_type": "stream",
     "text": [
      "Starting 5 engines with <class 'ipyparallel.cluster.launcher.LocalEngineSetLauncher'>\n"
     ]
    },
    {
     "data": {
      "text/plain": [
       "<Cluster(cluster_id='1686051066-36ru', profile='default', controller=<running>, engine_sets=['1686051067'])>"
      ]
     },
     "execution_count": 2,
     "metadata": {},
     "output_type": "execute_result"
    }
   ],
   "source": [
    "import ipyparallel as ipp\n",
    "\n",
    "cluster = ipp.Cluster(engines=\"local\" , n=5)\n",
    "\n",
    "\n",
    "cluster.start_cluster_sync()\n"
   ]
  },
  {
   "cell_type": "code",
   "execution_count": 3,
   "id": "53b738e6",
   "metadata": {},
   "outputs": [],
   "source": [
    "#reading the data using pandas\n",
    "\n",
    "data = pd.read_csv(\"crx.data\", header=None)\n",
    "pd.set_option('display.max_rows', 1000)\n",
    "\n",
    "#there is no columnes name if you set header=True it will throw a error"
   ]
  },
  {
   "cell_type": "code",
   "execution_count": 4,
   "id": "26b1400a",
   "metadata": {},
   "outputs": [],
   "source": [
    "# create a list with variable names  or column names\n",
    "varnames = [f\"A{s}\" for s in range(1,17)]"
   ]
  },
  {
   "cell_type": "code",
   "execution_count": 5,
   "id": "e750428c",
   "metadata": {},
   "outputs": [
    {
     "data": {
      "text/html": [
       "<div>\n",
       "<style scoped>\n",
       "    .dataframe tbody tr th:only-of-type {\n",
       "        vertical-align: middle;\n",
       "    }\n",
       "\n",
       "    .dataframe tbody tr th {\n",
       "        vertical-align: top;\n",
       "    }\n",
       "\n",
       "    .dataframe thead th {\n",
       "        text-align: right;\n",
       "    }\n",
       "</style>\n",
       "<table border=\"1\" class=\"dataframe\">\n",
       "  <thead>\n",
       "    <tr style=\"text-align: right;\">\n",
       "      <th></th>\n",
       "      <th>A1</th>\n",
       "      <th>A2</th>\n",
       "      <th>A3</th>\n",
       "      <th>A4</th>\n",
       "      <th>A5</th>\n",
       "      <th>A6</th>\n",
       "      <th>A7</th>\n",
       "      <th>A8</th>\n",
       "      <th>A9</th>\n",
       "      <th>A10</th>\n",
       "      <th>A11</th>\n",
       "      <th>A12</th>\n",
       "      <th>A13</th>\n",
       "      <th>A14</th>\n",
       "      <th>A15</th>\n",
       "      <th>A16</th>\n",
       "    </tr>\n",
       "  </thead>\n",
       "  <tbody>\n",
       "    <tr>\n",
       "      <th>0</th>\n",
       "      <td>b</td>\n",
       "      <td>30.83</td>\n",
       "      <td>0.000</td>\n",
       "      <td>u</td>\n",
       "      <td>g</td>\n",
       "      <td>w</td>\n",
       "      <td>v</td>\n",
       "      <td>1.25</td>\n",
       "      <td>t</td>\n",
       "      <td>t</td>\n",
       "      <td>1</td>\n",
       "      <td>f</td>\n",
       "      <td>g</td>\n",
       "      <td>00202</td>\n",
       "      <td>0</td>\n",
       "      <td>+</td>\n",
       "    </tr>\n",
       "    <tr>\n",
       "      <th>1</th>\n",
       "      <td>a</td>\n",
       "      <td>58.67</td>\n",
       "      <td>4.460</td>\n",
       "      <td>u</td>\n",
       "      <td>g</td>\n",
       "      <td>q</td>\n",
       "      <td>h</td>\n",
       "      <td>3.04</td>\n",
       "      <td>t</td>\n",
       "      <td>t</td>\n",
       "      <td>6</td>\n",
       "      <td>f</td>\n",
       "      <td>g</td>\n",
       "      <td>00043</td>\n",
       "      <td>560</td>\n",
       "      <td>+</td>\n",
       "    </tr>\n",
       "    <tr>\n",
       "      <th>2</th>\n",
       "      <td>a</td>\n",
       "      <td>24.50</td>\n",
       "      <td>0.500</td>\n",
       "      <td>u</td>\n",
       "      <td>g</td>\n",
       "      <td>q</td>\n",
       "      <td>h</td>\n",
       "      <td>1.50</td>\n",
       "      <td>t</td>\n",
       "      <td>f</td>\n",
       "      <td>0</td>\n",
       "      <td>f</td>\n",
       "      <td>g</td>\n",
       "      <td>00280</td>\n",
       "      <td>824</td>\n",
       "      <td>+</td>\n",
       "    </tr>\n",
       "    <tr>\n",
       "      <th>3</th>\n",
       "      <td>b</td>\n",
       "      <td>27.83</td>\n",
       "      <td>1.540</td>\n",
       "      <td>u</td>\n",
       "      <td>g</td>\n",
       "      <td>w</td>\n",
       "      <td>v</td>\n",
       "      <td>3.75</td>\n",
       "      <td>t</td>\n",
       "      <td>t</td>\n",
       "      <td>5</td>\n",
       "      <td>t</td>\n",
       "      <td>g</td>\n",
       "      <td>00100</td>\n",
       "      <td>3</td>\n",
       "      <td>+</td>\n",
       "    </tr>\n",
       "    <tr>\n",
       "      <th>4</th>\n",
       "      <td>b</td>\n",
       "      <td>20.17</td>\n",
       "      <td>5.625</td>\n",
       "      <td>u</td>\n",
       "      <td>g</td>\n",
       "      <td>w</td>\n",
       "      <td>v</td>\n",
       "      <td>1.71</td>\n",
       "      <td>t</td>\n",
       "      <td>f</td>\n",
       "      <td>0</td>\n",
       "      <td>f</td>\n",
       "      <td>s</td>\n",
       "      <td>00120</td>\n",
       "      <td>0</td>\n",
       "      <td>+</td>\n",
       "    </tr>\n",
       "  </tbody>\n",
       "</table>\n",
       "</div>"
      ],
      "text/plain": [
       "  A1     A2     A3 A4 A5 A6 A7    A8 A9 A10  A11 A12 A13    A14  A15 A16\n",
       "0  b  30.83  0.000  u  g  w  v  1.25  t   t    1   f   g  00202    0   +\n",
       "1  a  58.67  4.460  u  g  q  h  3.04  t   t    6   f   g  00043  560   +\n",
       "2  a  24.50  0.500  u  g  q  h  1.50  t   f    0   f   g  00280  824   +\n",
       "3  b  27.83  1.540  u  g  w  v  3.75  t   t    5   t   g  00100    3   +\n",
       "4  b  20.17  5.625  u  g  w  v  1.71  t   f    0   f   s  00120    0   +"
      ]
     },
     "execution_count": 5,
     "metadata": {},
     "output_type": "execute_result"
    }
   ],
   "source": [
    "#inserting the column names\n",
    "data.columns = varnames\n",
    "\n",
    "\n",
    "#print(data.to_string())\n",
    "\n",
    "data.head()"
   ]
  },
  {
   "cell_type": "code",
   "execution_count": 6,
   "id": "83e223f8",
   "metadata": {},
   "outputs": [
    {
     "data": {
      "text/plain": [
       "A1     12\n",
       "A2     12\n",
       "A3      0\n",
       "A4      6\n",
       "A5      6\n",
       "A6      9\n",
       "A7      9\n",
       "A8      0\n",
       "A9      0\n",
       "A10     0\n",
       "A11     0\n",
       "A12     0\n",
       "A13     0\n",
       "A14    13\n",
       "A15     0\n",
       "A16     0\n",
       "dtype: int64"
      ]
     },
     "execution_count": 6,
     "metadata": {},
     "output_type": "execute_result"
    }
   ],
   "source": [
    "#we find ? is \n",
    "\n",
    "data = data.replace([\"?\" ,\"*\"],np.nan)\n",
    "\n",
    "#checking how many null values are there\n",
    "data.isnull().sum()"
   ]
  },
  {
   "cell_type": "code",
   "execution_count": 7,
   "id": "f6935823",
   "metadata": {},
   "outputs": [
    {
     "data": {
      "text/plain": [
       "A1      object\n",
       "A2      object\n",
       "A3     float64\n",
       "A4      object\n",
       "A5      object\n",
       "A6      object\n",
       "A7      object\n",
       "A8     float64\n",
       "A9      object\n",
       "A10     object\n",
       "A11      int64\n",
       "A12     object\n",
       "A13     object\n",
       "A14     object\n",
       "A15      int64\n",
       "A16     object\n",
       "dtype: object"
      ]
     },
     "execution_count": 7,
     "metadata": {},
     "output_type": "execute_result"
    }
   ],
   "source": [
    "#checking the datatypes and select the what rows to convert the datatypes we recuried\n",
    "data.dtypes"
   ]
  },
  {
   "cell_type": "code",
   "execution_count": 8,
   "id": "179d9e22",
   "metadata": {},
   "outputs": [
    {
     "data": {
      "text/html": [
       "<div>\n",
       "<style scoped>\n",
       "    .dataframe tbody tr th:only-of-type {\n",
       "        vertical-align: middle;\n",
       "    }\n",
       "\n",
       "    .dataframe tbody tr th {\n",
       "        vertical-align: top;\n",
       "    }\n",
       "\n",
       "    .dataframe thead th {\n",
       "        text-align: right;\n",
       "    }\n",
       "</style>\n",
       "<table border=\"1\" class=\"dataframe\">\n",
       "  <thead>\n",
       "    <tr style=\"text-align: right;\">\n",
       "      <th></th>\n",
       "      <th>A1</th>\n",
       "      <th>A2</th>\n",
       "      <th>A3</th>\n",
       "      <th>A4</th>\n",
       "      <th>A5</th>\n",
       "      <th>A6</th>\n",
       "      <th>A7</th>\n",
       "      <th>A8</th>\n",
       "      <th>A9</th>\n",
       "      <th>A10</th>\n",
       "      <th>A11</th>\n",
       "      <th>A12</th>\n",
       "      <th>A13</th>\n",
       "      <th>target</th>\n",
       "      <th>A15</th>\n",
       "      <th>A16</th>\n",
       "    </tr>\n",
       "  </thead>\n",
       "  <tbody>\n",
       "    <tr>\n",
       "      <th>0</th>\n",
       "      <td>b</td>\n",
       "      <td>30.83</td>\n",
       "      <td>0</td>\n",
       "      <td>u</td>\n",
       "      <td>g</td>\n",
       "      <td>w</td>\n",
       "      <td>v</td>\n",
       "      <td>1</td>\n",
       "      <td>t</td>\n",
       "      <td>t</td>\n",
       "      <td>1</td>\n",
       "      <td>f</td>\n",
       "      <td>g</td>\n",
       "      <td>202.0</td>\n",
       "      <td>0</td>\n",
       "      <td>+</td>\n",
       "    </tr>\n",
       "    <tr>\n",
       "      <th>1</th>\n",
       "      <td>a</td>\n",
       "      <td>58.67</td>\n",
       "      <td>4</td>\n",
       "      <td>u</td>\n",
       "      <td>g</td>\n",
       "      <td>q</td>\n",
       "      <td>h</td>\n",
       "      <td>3</td>\n",
       "      <td>t</td>\n",
       "      <td>t</td>\n",
       "      <td>6</td>\n",
       "      <td>f</td>\n",
       "      <td>g</td>\n",
       "      <td>43.0</td>\n",
       "      <td>560</td>\n",
       "      <td>+</td>\n",
       "    </tr>\n",
       "    <tr>\n",
       "      <th>2</th>\n",
       "      <td>a</td>\n",
       "      <td>24.50</td>\n",
       "      <td>0</td>\n",
       "      <td>u</td>\n",
       "      <td>g</td>\n",
       "      <td>q</td>\n",
       "      <td>h</td>\n",
       "      <td>1</td>\n",
       "      <td>t</td>\n",
       "      <td>f</td>\n",
       "      <td>0</td>\n",
       "      <td>f</td>\n",
       "      <td>g</td>\n",
       "      <td>280.0</td>\n",
       "      <td>824</td>\n",
       "      <td>+</td>\n",
       "    </tr>\n",
       "    <tr>\n",
       "      <th>3</th>\n",
       "      <td>b</td>\n",
       "      <td>27.83</td>\n",
       "      <td>1</td>\n",
       "      <td>u</td>\n",
       "      <td>g</td>\n",
       "      <td>w</td>\n",
       "      <td>v</td>\n",
       "      <td>3</td>\n",
       "      <td>t</td>\n",
       "      <td>t</td>\n",
       "      <td>5</td>\n",
       "      <td>t</td>\n",
       "      <td>g</td>\n",
       "      <td>100.0</td>\n",
       "      <td>3</td>\n",
       "      <td>+</td>\n",
       "    </tr>\n",
       "    <tr>\n",
       "      <th>4</th>\n",
       "      <td>b</td>\n",
       "      <td>20.17</td>\n",
       "      <td>5</td>\n",
       "      <td>u</td>\n",
       "      <td>g</td>\n",
       "      <td>w</td>\n",
       "      <td>v</td>\n",
       "      <td>1</td>\n",
       "      <td>t</td>\n",
       "      <td>f</td>\n",
       "      <td>0</td>\n",
       "      <td>f</td>\n",
       "      <td>s</td>\n",
       "      <td>120.0</td>\n",
       "      <td>0</td>\n",
       "      <td>+</td>\n",
       "    </tr>\n",
       "  </tbody>\n",
       "</table>\n",
       "</div>"
      ],
      "text/plain": [
       "  A1     A2  A3 A4 A5 A6 A7  A8 A9 A10  A11 A12 A13  target  A15 A16\n",
       "0  b  30.83   0  u  g  w  v   1  t   t    1   f   g   202.0    0   +\n",
       "1  a  58.67   4  u  g  q  h   3  t   t    6   f   g    43.0  560   +\n",
       "2  a  24.50   0  u  g  q  h   1  t   f    0   f   g   280.0  824   +\n",
       "3  b  27.83   1  u  g  w  v   3  t   t    5   t   g   100.0    3   +\n",
       "4  b  20.17   5  u  g  w  v   1  t   f    0   f   s   120.0    0   +"
      ]
     },
     "execution_count": 8,
     "metadata": {},
     "output_type": "execute_result"
    }
   ],
   "source": [
    "#some object varabiles as float data types\n",
    "\n",
    "data[\"A2\"] = data[\"A2\"].astype(\"float\")\n",
    "\n",
    "data[\"A14\"] = data[\"A14\"].astype(\"float\")\n",
    "\n",
    "data[[\"A3\",\"A8\"]] = data[[\"A3\" ,\"A8\"]].astype(\"int\")\n",
    "\n",
    "#there are also much more of the datatypes float , float32 , float64 \n",
    "\n",
    "#rename the target column name\n",
    "\n",
    "data.rename(columns={\"A14\" : \"target\"} , inplace = True)\n",
    "data.head()"
   ]
  },
  {
   "cell_type": "code",
   "execution_count": 9,
   "id": "6225f97a",
   "metadata": {},
   "outputs": [
    {
     "data": {
      "text/plain": [
       "A1         object\n",
       "A2        float64\n",
       "A3          int64\n",
       "A4         object\n",
       "A5         object\n",
       "A6         object\n",
       "A7         object\n",
       "A8          int64\n",
       "A9         object\n",
       "A10        object\n",
       "A11         int64\n",
       "A12        object\n",
       "A13        object\n",
       "target    float64\n",
       "A15         int64\n",
       "A16         int64\n",
       "dtype: object"
      ]
     },
     "execution_count": 9,
     "metadata": {},
     "output_type": "execute_result"
    }
   ],
   "source": [
    "data[\"A16\"] = data[\"A16\"].map({\"+\":1 ,\"-\":0})\n",
    "data.dtypes"
   ]
  },
  {
   "cell_type": "code",
   "execution_count": 10,
   "id": "d943197f",
   "metadata": {},
   "outputs": [
    {
     "data": {
      "text/plain": [
       "A1        12\n",
       "A2        12\n",
       "A3        92\n",
       "A4         6\n",
       "A5         6\n",
       "A6         9\n",
       "A7         9\n",
       "A8        92\n",
       "A9        92\n",
       "A10       92\n",
       "A11        0\n",
       "A12        0\n",
       "A13        0\n",
       "target    13\n",
       "A15        0\n",
       "A16        0\n",
       "dtype: int64"
      ]
     },
     "execution_count": 10,
     "metadata": {},
     "output_type": "execute_result"
    }
   ],
   "source": [
    "#Add missing values at random positions in four variable \n",
    "#this is some example we taken as missing values\n",
    "\n",
    "random.seed(9001)\n",
    "\n",
    "values = list(set([random.randint(0, len(data)) for p in range(0, 100)]))\n",
    "\n",
    "data.loc[values, [\"A3\", \"A8\", \"A9\", \"A10\"]] = np.nan\n",
    "\n",
    "data.isnull().sum()"
   ]
  },
  {
   "cell_type": "code",
   "execution_count": 11,
   "id": "3c4530ad",
   "metadata": {},
   "outputs": [],
   "source": [
    "#saving as csv file\n",
    "\n",
    "data.to_csv(\"we_need_to_clean.csv\", index=False)"
   ]
  },
  {
   "cell_type": "code",
   "execution_count": 12,
   "id": "f3a58708",
   "metadata": {},
   "outputs": [
    {
     "data": {
      "image/png": "[encoded data removed]",
      "text/plain": [
       "<Figure size 576x396 with 1 Axes>"
      ]
     },
     "metadata": {},
     "output_type": "display_data"
    }
   ],
   "source": [
    "\n",
    "#reading the data\n",
    "processing = pd.read_csv(\"we_need_to_clean.csv\")\n",
    "\n",
    "#ploting the data \n",
    "\n",
    "with plt.style.context(\"seaborn\"):\n",
    "    processing.isnull().mean().sort_values(ascending=True\n",
    "                                          ).plot.bar(rot=45)\n",
    "    plt.ylabel(\"Proportion of missing data\")\n",
    "    plt.title(\"Proportion of missing data per variable\")"
   ]
  },
  {
   "cell_type": "code",
   "execution_count": 13,
   "id": "cffbdd0b",
   "metadata": {},
   "outputs": [
    {
     "data": {
      "text/plain": [
       "A1        0\n",
       "A2        0\n",
       "A3        0\n",
       "A4        0\n",
       "A5        0\n",
       "A6        0\n",
       "A7        0\n",
       "A8        0\n",
       "A9        0\n",
       "A10       0\n",
       "A11       0\n",
       "A12       0\n",
       "A13       0\n",
       "target    0\n",
       "A15       0\n",
       "A16       0\n",
       "dtype: int64"
      ]
     },
     "execution_count": 13,
     "metadata": {},
     "output_type": "execute_result"
    }
   ],
   "source": [
    "# we just drop the values using null values\n",
    "\n",
    "drop_values = processing.dropna()\n",
    "\n",
    "#will show all colums are removes null values\n",
    "drop_values.isnull().sum()"
   ]
  },
  {
   "cell_type": "code",
   "execution_count": null,
   "id": "40897e5e",
   "metadata": {},
   "outputs": [],
   "source": []
  },
  {
   "cell_type": "code",
   "execution_count": null,
   "id": "a3a5b82a",
   "metadata": {},
   "outputs": [],
   "source": []
  },
  {
   "cell_type": "code",
   "execution_count": 14,
   "id": "ef9bb50a",
   "metadata": {},
   "outputs": [
    {
     "name": "stdout",
     "output_type": "stream",
     "text": [
      "Total number of observations: 690\n",
      "Number of observations without missing data564\n"
     ]
    }
   ],
   "source": [
    "print(f\"Total number of observations: {len(processing)}\")\n",
    "\n",
    "print(f\"Number of observations without missing data{len(drop_values)}\")"
   ]
  },
  {
   "cell_type": "code",
   "execution_count": 15,
   "id": "ccc36b68",
   "metadata": {},
   "outputs": [],
   "source": [
    "#we can also using feature-engine\n",
    "from feature_engine.imputation import DropMissingData\n",
    "\n",
    "#the imputer to automatically find the variables with missing data\n",
    "feature = DropMissingData(variables=None,missing_only=True)\n",
    "\n",
    "feature.fit(processing)\n",
    "\n",
    "feature.variables_\n",
    "\n",
    "#Remove observations with missing data in the previous variables:\n",
    "data = feature.transform(processing)\n"
   ]
  },
  {
   "cell_type": "markdown",
   "id": "30e7b30f",
   "metadata": {},
   "source": [
    "# Performing mean or median imputation"
   ]
  },
  {
   "cell_type": "code",
   "execution_count": 16,
   "id": "6605a150",
   "metadata": {},
   "outputs": [],
   "source": [
    "#imputer we use fill missing values  mean  medain etc ..\n",
    "\n",
    "from sklearn.model_selection import train_test_split\n",
    "from sklearn.impute import SimpleImputer\n",
    "from sklearn.compose import ColumnTransformer\n",
    "\n",
    "#we can also see using feature_engine \n",
    "from feature_engine.imputation import MeanMedianImputer,CategoricalImputer"
   ]
  },
  {
   "cell_type": "code",
   "execution_count": 17,
   "id": "d2063c86",
   "metadata": {},
   "outputs": [],
   "source": [
    "#we all have last indication processing variable\n",
    "\n",
    "X_train,X_test,y_train,y_test = train_test_split(processing.drop(\"target\" , axis=1)\n",
    "                                                ,processing[\"target\"],test_size=0.2,random_state=0)\n",
    "\n"
   ]
  },
  {
   "cell_type": "code",
   "execution_count": 18,
   "id": "0db317c6",
   "metadata": {},
   "outputs": [
    {
     "name": "stdout",
     "output_type": "stream",
     "text": [
      "['A2', 'A3', 'A8', 'A11', 'A15', 'A16']\n",
      "{'A2': 28.67, 'A3': 2.0, 'A8': 1.0, 'A11': 0.0, 'A15': 5.0, 'A16': 0.0}\n"
     ]
    }
   ],
   "source": [
    "\"\"\"exclude=\"O\" is an argument passed to select_dtypes()\n",
    "to exclude columns with object data type (\"O\" represents object \n",
    "type in pandas). In other words, it will select columns that are \n",
    "not of object type, i.e., numeric columns\"\"\"\n",
    "\n",
    "#normal codeing \n",
    "\n",
    "numeric_vars = X_train.select_dtypes(exclude=\"O\").columns.to_list()\n",
    "\n",
    "print(numeric_vars)\n",
    "\n",
    "median_values = X_train[numeric_vars].median().to_dict()\n",
    "\n",
    "print(median_values)\n",
    "\n",
    "#we can fit the data \n",
    "x_train = X_train.fillna(value=median_values)\n",
    "x_test = X_test.fillna(value=median_values )\n",
    "\n",
    "#it will fill all values with median_values ['A2', 'A3', 'A8', 'A11', 'A15', 'A16']\n"
   ]
  },
  {
   "cell_type": "code",
   "execution_count": 19,
   "id": "f79f5b23",
   "metadata": {},
   "outputs": [
    {
     "data": {
      "text/plain": [
       "['A1', 'A4', 'A5', 'A6', 'A7', 'A9', 'A10', 'A12', 'A13']"
      ]
     },
     "execution_count": 19,
     "metadata": {},
     "output_type": "execute_result"
    }
   ],
   "source": [
    "#WE caputer non numerical values in a list\n",
    "\n",
    "remaining_var = [var for var in X_train.columns if var not in numeric_vars]\n",
    "\n",
    "remaining_var"
   ]
  },
  {
   "cell_type": "code",
   "execution_count": 20,
   "id": "11e8b321",
   "metadata": {},
   "outputs": [
    {
     "data": {
      "text/html": [
       "<div>\n",
       "<style scoped>\n",
       "    .dataframe tbody tr th:only-of-type {\n",
       "        vertical-align: middle;\n",
       "    }\n",
       "\n",
       "    .dataframe tbody tr th {\n",
       "        vertical-align: top;\n",
       "    }\n",
       "\n",
       "    .dataframe thead th {\n",
       "        text-align: right;\n",
       "    }\n",
       "</style>\n",
       "<table border=\"1\" class=\"dataframe\">\n",
       "  <thead>\n",
       "    <tr style=\"text-align: right;\">\n",
       "      <th></th>\n",
       "      <th>A2</th>\n",
       "      <th>A3</th>\n",
       "      <th>A8</th>\n",
       "      <th>A11</th>\n",
       "      <th>A15</th>\n",
       "      <th>A16</th>\n",
       "      <th>A1</th>\n",
       "      <th>A4</th>\n",
       "      <th>A5</th>\n",
       "      <th>A6</th>\n",
       "      <th>A7</th>\n",
       "      <th>A9</th>\n",
       "      <th>A10</th>\n",
       "      <th>A12</th>\n",
       "      <th>A13</th>\n",
       "    </tr>\n",
       "  </thead>\n",
       "  <tbody>\n",
       "    <tr>\n",
       "      <th>0</th>\n",
       "      <td>22.75</td>\n",
       "      <td>2</td>\n",
       "      <td>1</td>\n",
       "      <td>7</td>\n",
       "      <td>809</td>\n",
       "      <td>1</td>\n",
       "      <td>b</td>\n",
       "      <td>u</td>\n",
       "      <td>g</td>\n",
       "      <td>q</td>\n",
       "      <td>v</td>\n",
       "      <td>NaN</td>\n",
       "      <td>NaN</td>\n",
       "      <td>t</td>\n",
       "      <td>g</td>\n",
       "    </tr>\n",
       "    <tr>\n",
       "      <th>1</th>\n",
       "      <td>39.92</td>\n",
       "      <td>5</td>\n",
       "      <td>0</td>\n",
       "      <td>0</td>\n",
       "      <td>0</td>\n",
       "      <td>0</td>\n",
       "      <td>b</td>\n",
       "      <td>u</td>\n",
       "      <td>g</td>\n",
       "      <td>i</td>\n",
       "      <td>bb</td>\n",
       "      <td>f</td>\n",
       "      <td>f</td>\n",
       "      <td>f</td>\n",
       "      <td>g</td>\n",
       "    </tr>\n",
       "    <tr>\n",
       "      <th>2</th>\n",
       "      <td>23.25</td>\n",
       "      <td>1</td>\n",
       "      <td>0</td>\n",
       "      <td>0</td>\n",
       "      <td>0</td>\n",
       "      <td>1</td>\n",
       "      <td>b</td>\n",
       "      <td>u</td>\n",
       "      <td>g</td>\n",
       "      <td>c</td>\n",
       "      <td>v</td>\n",
       "      <td>t</td>\n",
       "      <td>f</td>\n",
       "      <td>f</td>\n",
       "      <td>s</td>\n",
       "    </tr>\n",
       "    <tr>\n",
       "      <th>3</th>\n",
       "      <td>48.33</td>\n",
       "      <td>12</td>\n",
       "      <td>16</td>\n",
       "      <td>0</td>\n",
       "      <td>0</td>\n",
       "      <td>1</td>\n",
       "      <td>b</td>\n",
       "      <td>u</td>\n",
       "      <td>g</td>\n",
       "      <td>m</td>\n",
       "      <td>v</td>\n",
       "      <td>t</td>\n",
       "      <td>f</td>\n",
       "      <td>f</td>\n",
       "      <td>s</td>\n",
       "    </tr>\n",
       "    <tr>\n",
       "      <th>4</th>\n",
       "      <td>28</td>\n",
       "      <td>3</td>\n",
       "      <td>0</td>\n",
       "      <td>0</td>\n",
       "      <td>67</td>\n",
       "      <td>0</td>\n",
       "      <td>b</td>\n",
       "      <td>u</td>\n",
       "      <td>g</td>\n",
       "      <td>w</td>\n",
       "      <td>v</td>\n",
       "      <td>f</td>\n",
       "      <td>f</td>\n",
       "      <td>t</td>\n",
       "      <td>g</td>\n",
       "    </tr>\n",
       "  </tbody>\n",
       "</table>\n",
       "</div>"
      ],
      "text/plain": [
       "      A2  A3  A8 A11  A15 A16 A1 A4 A5 A6  A7   A9  A10 A12 A13\n",
       "0  22.75   2   1   7  809   1  b  u  g  q   v  NaN  NaN   t   g\n",
       "1  39.92   5   0   0    0   0  b  u  g  i  bb    f    f   f   g\n",
       "2  23.25   1   0   0    0   1  b  u  g  c   v    t    f   f   s\n",
       "3  48.33  12  16   0    0   1  b  u  g  m   v    t    f   f   s\n",
       "4     28   3   0   0   67   0  b  u  g  w   v    f    f   t   g"
      ]
     },
     "execution_count": 20,
     "metadata": {},
     "output_type": "execute_result"
    }
   ],
   "source": [
    "#using sklearn \n",
    "\n",
    "imputer = SimpleImputer(strategy=\"median\")\n",
    "\n",
    "#remainder passthrough remaing unchnage \n",
    "ct = ColumnTransformer([(\"imputer\",imputer, numeric_vars)],remainder=\"passthrough\")\n",
    "\n",
    "ct.fit(X_train)\n",
    "\n",
    "ct.named_transformers_.imputer.statistics_\n",
    "\n",
    "x_train_ = ct.transform(X_train)\n",
    "x_test_ = ct.transform(X_test)\n",
    "\n",
    "\n",
    "#then we convert the  values\n",
    "\n",
    "x_train = pd.DataFrame(x_train_,columns=numeric_vars + remaining_var)\n",
    "\n",
    "x_train.head()"
   ]
  },
  {
   "cell_type": "code",
   "execution_count": 21,
   "id": "91c006e5",
   "metadata": {},
   "outputs": [
    {
     "data": {
      "text/plain": [
       "A1      5\n",
       "A2      0\n",
       "A3      0\n",
       "A4      5\n",
       "A5      5\n",
       "A6      5\n",
       "A7      5\n",
       "A8      0\n",
       "A9     75\n",
       "A10    75\n",
       "A11     0\n",
       "A12     0\n",
       "A13     0\n",
       "A15     0\n",
       "A16     0\n",
       "dtype: int64"
      ]
     },
     "execution_count": 21,
     "metadata": {},
     "output_type": "execute_result"
    }
   ],
   "source": [
    "#using feature_engine \n",
    "\n",
    "\n",
    "imputer = MeanMedianImputer(imputation_method=\"median\",variables=numeric_vars)\n",
    "\n",
    "\n",
    "imputer.fit(X_train)\n",
    "#checking\n",
    "imputer.imputer_dict_\n",
    "\n",
    "x_train = imputer.fit(X_train)\n",
    "\n",
    "\n",
    "X_train_= imputer.transform(X_train)\n",
    "X_test_ = imputer.transform(X_test)\n",
    "\n",
    "X_train_.isnull().sum()"
   ]
  },
  {
   "cell_type": "markdown",
   "id": "081578bc",
   "metadata": {},
   "source": [
    "# Imputing categorical variables "
   ]
  },
  {
   "cell_type": "code",
   "execution_count": 22,
   "id": "a0758b2f",
   "metadata": {
    "scrolled": true
   },
   "outputs": [],
   "source": [
    "#we can changes with  categorical variables\n",
    "\n",
    "#X_train, X_test, Y_train, Y_test = train_test_split(processing.drop(\"target\", axis=1), processing[\"target\"], test_size=0.3, random_state=10)\n",
    "\n"
   ]
  },
  {
   "cell_type": "code",
   "execution_count": 23,
   "id": "da61a0d8",
   "metadata": {},
   "outputs": [],
   "source": [
    "catgeorical_vars = X_train_.select_dtypes(include=\"O\").columns.to_list()\n",
    "\n"
   ]
  },
  {
   "cell_type": "code",
   "execution_count": 24,
   "id": "58a4d8ce",
   "metadata": {},
   "outputs": [
    {
     "data": {
      "text/plain": [
       "A1     0\n",
       "A2     0\n",
       "A3     0\n",
       "A4     0\n",
       "A5     0\n",
       "A6     0\n",
       "A7     0\n",
       "A8     0\n",
       "A9     0\n",
       "A10    0\n",
       "A11    0\n",
       "A12    0\n",
       "A13    0\n",
       "A15    0\n",
       "A16    0\n",
       "dtype: int64"
      ]
     },
     "execution_count": 24,
     "metadata": {},
     "output_type": "execute_result"
    }
   ],
   "source": [
    "# Access a single value using iloc\n",
    "\n",
    "frequent_values = X_train_[catgeorical_vars].mode().iloc[0].to_dict()\n",
    "\n",
    "#using mode you know in stat mode more reapated values\n",
    "frequent_values\n",
    "\n",
    "\n",
    "x_train = X_train_.fillna(value=frequent_values)\n",
    "x_test = X_test_.fillna(value=frequent_values)\n",
    "\n",
    "x_test.isnull().sum()"
   ]
  },
  {
   "cell_type": "code",
   "execution_count": 25,
   "id": "eb8495d9",
   "metadata": {},
   "outputs": [
    {
     "data": {
      "text/html": [
       "<div>\n",
       "<style scoped>\n",
       "    .dataframe tbody tr th:only-of-type {\n",
       "        vertical-align: middle;\n",
       "    }\n",
       "\n",
       "    .dataframe tbody tr th {\n",
       "        vertical-align: top;\n",
       "    }\n",
       "\n",
       "    .dataframe thead th {\n",
       "        text-align: right;\n",
       "    }\n",
       "</style>\n",
       "<table border=\"1\" class=\"dataframe\">\n",
       "  <thead>\n",
       "    <tr style=\"text-align: right;\">\n",
       "      <th></th>\n",
       "      <th>A1</th>\n",
       "      <th>A2</th>\n",
       "      <th>A3</th>\n",
       "      <th>A4</th>\n",
       "      <th>A5</th>\n",
       "      <th>A6</th>\n",
       "      <th>A7</th>\n",
       "      <th>A8</th>\n",
       "      <th>A9</th>\n",
       "      <th>A10</th>\n",
       "      <th>A11</th>\n",
       "      <th>A12</th>\n",
       "      <th>A13</th>\n",
       "      <th>A15</th>\n",
       "      <th>A16</th>\n",
       "    </tr>\n",
       "  </thead>\n",
       "  <tbody>\n",
       "    <tr>\n",
       "      <th>14</th>\n",
       "      <td>a</td>\n",
       "      <td>45.83</td>\n",
       "      <td>10.0</td>\n",
       "      <td>u</td>\n",
       "      <td>g</td>\n",
       "      <td>q</td>\n",
       "      <td>v</td>\n",
       "      <td>5.0</td>\n",
       "      <td>t</td>\n",
       "      <td>t</td>\n",
       "      <td>7</td>\n",
       "      <td>t</td>\n",
       "      <td>g</td>\n",
       "      <td>0</td>\n",
       "      <td>1</td>\n",
       "    </tr>\n",
       "    <tr>\n",
       "      <th>586</th>\n",
       "      <td>b</td>\n",
       "      <td>64.08</td>\n",
       "      <td>20.0</td>\n",
       "      <td>u</td>\n",
       "      <td>g</td>\n",
       "      <td>x</td>\n",
       "      <td>h</td>\n",
       "      <td>17.0</td>\n",
       "      <td>t</td>\n",
       "      <td>t</td>\n",
       "      <td>9</td>\n",
       "      <td>t</td>\n",
       "      <td>g</td>\n",
       "      <td>1000</td>\n",
       "      <td>1</td>\n",
       "    </tr>\n",
       "    <tr>\n",
       "      <th>140</th>\n",
       "      <td>a</td>\n",
       "      <td>31.25</td>\n",
       "      <td>3.0</td>\n",
       "      <td>u</td>\n",
       "      <td>g</td>\n",
       "      <td>cc</td>\n",
       "      <td>h</td>\n",
       "      <td>0.0</td>\n",
       "      <td>t</td>\n",
       "      <td>t</td>\n",
       "      <td>9</td>\n",
       "      <td>t</td>\n",
       "      <td>g</td>\n",
       "      <td>0</td>\n",
       "      <td>1</td>\n",
       "    </tr>\n",
       "    <tr>\n",
       "      <th>492</th>\n",
       "      <td>b</td>\n",
       "      <td>39.25</td>\n",
       "      <td>9.0</td>\n",
       "      <td>u</td>\n",
       "      <td>g</td>\n",
       "      <td>m</td>\n",
       "      <td>v</td>\n",
       "      <td>6.0</td>\n",
       "      <td>t</td>\n",
       "      <td>t</td>\n",
       "      <td>14</td>\n",
       "      <td>f</td>\n",
       "      <td>g</td>\n",
       "      <td>4607</td>\n",
       "      <td>1</td>\n",
       "    </tr>\n",
       "    <tr>\n",
       "      <th>350</th>\n",
       "      <td>a</td>\n",
       "      <td>26.17</td>\n",
       "      <td>2.0</td>\n",
       "      <td>u</td>\n",
       "      <td>g</td>\n",
       "      <td>j</td>\n",
       "      <td>j</td>\n",
       "      <td>0.0</td>\n",
       "      <td>f</td>\n",
       "      <td>f</td>\n",
       "      <td>0</td>\n",
       "      <td>t</td>\n",
       "      <td>g</td>\n",
       "      <td>1</td>\n",
       "      <td>0</td>\n",
       "    </tr>\n",
       "  </tbody>\n",
       "</table>\n",
       "</div>"
      ],
      "text/plain": [
       "    A1     A2    A3 A4 A5  A6 A7    A8 A9 A10  A11 A12 A13   A15  A16\n",
       "14   a  45.83  10.0  u  g   q  v   5.0  t   t    7   t   g     0    1\n",
       "586  b  64.08  20.0  u  g   x  h  17.0  t   t    9   t   g  1000    1\n",
       "140  a  31.25   3.0  u  g  cc  h   0.0  t   t    9   t   g     0    1\n",
       "492  b  39.25   9.0  u  g   m  v   6.0  t   t   14   f   g  4607    1\n",
       "350  a  26.17   2.0  u  g   j  j   0.0  f   f    0   t   g     1    0"
      ]
     },
     "execution_count": 25,
     "metadata": {},
     "output_type": "execute_result"
    }
   ],
   "source": [
    "x_test.head()"
   ]
  },
  {
   "cell_type": "code",
   "execution_count": 30,
   "id": "a486de94",
   "metadata": {},
   "outputs": [
    {
     "name": "stdout",
     "output_type": "stream",
     "text": [
      "{'A1': 'b', 'A4': 'u', 'A5': 'g', 'A6': 'c', 'A7': 'v', 'A9': 't', 'A10': 'f', 'A12': 'f', 'A13': 'g'}\n"
     ]
    },
    {
     "data": {
      "text/plain": [
       "A1     0\n",
       "A2     0\n",
       "A3     0\n",
       "A4     0\n",
       "A5     0\n",
       "A6     0\n",
       "A7     0\n",
       "A8     0\n",
       "A9     0\n",
       "A10    0\n",
       "A11    0\n",
       "A12    0\n",
       "A13    0\n",
       "A15    0\n",
       "A16    0\n",
       "dtype: int64"
      ]
     },
     "execution_count": 30,
     "metadata": {},
     "output_type": "execute_result"
    }
   ],
   "source": [
    "#using feature_engine \n",
    "\n",
    "imputer = CategoricalImputer(imputation_method = \"frequent\" , variables=catgeorical_vars)\n",
    "\n",
    "\n",
    "imputer.fit(X_train_)\n",
    "\n",
    "\n",
    "print(imputer.imputer_dict_)\n",
    "\n",
    "x_train = imputer.transform(X_train_)\n",
    "\n",
    "x_test =imputer.transform(X_test_)\n",
    "\n",
    "x_train.isnull().sum()"
   ]
  },
  {
   "cell_type": "code",
   "execution_count": null,
   "id": "5bd15736",
   "metadata": {},
   "outputs": [],
   "source": []
  }
 ],
 "metadata": {
  "kernelspec": {
   "display_name": "Python 3 (ipykernel)",
   "language": "python",
   "name": "python3"
  },
  "language_info": {
   "codemirror_mode": {
    "name": "ipython",
    "version": 3
   },
   "file_extension": ".py",
   "mimetype": "text/x-python",
   "name": "python",
   "nbconvert_exporter": "python",
   "pygments_lexer": "ipython3",
   "version": "3.9.2"
  }
 },
 "nbformat": 4,
 "nbformat_minor": 5
}
